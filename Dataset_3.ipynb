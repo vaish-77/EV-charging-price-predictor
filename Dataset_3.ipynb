{
 "cells": [
  {
   "cell_type": "markdown",
   "id": "41ac3700",
   "metadata": {},
   "source": [
    "# Dataset - 3 (Predicting cost per unit for Power Grid)\n",
    "We will be using four different models to train this dataset and find the errors and graphical analysis using all four.\n"
   ]
  },
  {
   "cell_type": "markdown",
   "id": "3fea1996",
   "metadata": {},
   "source": [
    "# Model 1 - Linear Regression"
   ]
  },
  {
   "cell_type": "code",
   "execution_count": 1,
   "id": "74b7391a",
   "metadata": {},
   "outputs": [
    {
     "name": "stdout",
     "output_type": "stream",
     "text": [
      "RMSE: 12787.262425558854\n",
      "Mean squared error: 163514080.34\n",
      "R-squared: 1.00\n"
     ]
    },
    {
     "data": {
      "image/png": "[encoded data removed]",
      "text/plain": [
       "<Figure size 432x288 with 1 Axes>"
      ]
     },
     "metadata": {
      "needs_background": "light"
     },
     "output_type": "display_data"
    },
    {
     "name": "stdout",
     "output_type": "stream",
     "text": [
      "Output on given input: [185027.94827264]\n"
     ]
    }
   ],
   "source": [
    "import pandas as pd\n",
    "import numpy as np\n",
    "import matplotlib.pyplot as plt\n",
    "from sklearn.linear_model import LinearRegression\n",
    "from sklearn.model_selection import train_test_split\n",
    "from sklearn.metrics import mean_squared_error, r2_score\n",
    "\n",
    "# Load the data from the CSV file\n",
    "data = pd.read_csv('Grid_Price.csv')\n",
    "\n",
    "# Clean the data by removing any missing values\n",
    "data = data.dropna()\n",
    "\n",
    "# Create new features that could impact the price of an electric vehicle\n",
    "#data['daily_solar_irradiance'] = data['solar_radiation'] * 24\n",
    "\n",
    "# Split the data into training and testing sets\n",
    "X = data[['Power_Grid']]\n",
    "y = data['Cost']\n",
    "X_train, X_test, y_train, y_test = train_test_split(X, y, test_size=0.2, random_state=42)\n",
    "\n",
    "# Train a linear regression model on the training data\n",
    "model = LinearRegression()\n",
    "model.fit(X_train, y_train)\n",
    "\n",
    "# Make predictions on the testing data\n",
    "y_pred = model.predict(X_test)\n",
    "\n",
    "# Evaluate the model performance using mean squared error and R-squared\n",
    "mse = mean_squared_error(y_test, y_pred)\n",
    "r2 = r2_score(y_test, y_pred)\n",
    "rmse = np.sqrt(mse)\n",
    "print(f\"RMSE: {rmse}\")\n",
    "print(\"Mean squared error: %.2f\" % mse)\n",
    "print('R-squared: %.2f' % r2)\n",
    "\n",
    "# Visualize the relationship between the features and the target variable\n",
    "plt.scatter(X_test['Power_Grid'], y_test, color='black')\n",
    "plt.scatter(X_test['Power_Grid'], y_pred, color='blue')\n",
    "plt.xlabel('Grid Power')\n",
    "plt.ylabel('Cost')\n",
    "plt.title('Power_Grid v/s Cost')\n",
    "plt.legend(['Actual', 'Predicted'])\n",
    "plt.show()\n",
    "\n",
    "# Make a prediction using the trained model\n",
    "new_X = np.array([[27908.86972]])\n",
    "prediction = model.predict(new_X)\n",
    "\n",
    "\n",
    "# Print the prediction\n",
    "print(\"Output on given input:\", prediction)"
   ]
  },
  {
   "cell_type": "markdown",
   "id": "9c09b243",
   "metadata": {},
   "source": [
    "# Model 2 - Decision Tree"
   ]
  },
  {
   "cell_type": "code",
   "execution_count": 2,
   "id": "74c447ed",
   "metadata": {},
   "outputs": [
    {
     "name": "stdout",
     "output_type": "stream",
     "text": [
      "RMSE: 113053.77691383973\n",
      "R-squared score: 0.76\n"
     ]
    },
    {
     "data": {
      "image/png": "[encoded data removed]",
      "text/plain": [
       "<Figure size 432x288 with 1 Axes>"
      ]
     },
     "metadata": {
      "needs_background": "light"
     },
     "output_type": "display_data"
    },
    {
     "name": "stdout",
     "output_type": "stream",
     "text": [
      "Output on given input: [185035.8062]\n"
     ]
    }
   ],
   "source": [
    "#DATASET 3\n",
    "import pandas as pd\n",
    "import numpy as np\n",
    "from sklearn.tree import DecisionTreeRegressor\n",
    "from sklearn.model_selection import train_test_split\n",
    "from sklearn.metrics import mean_squared_error, r2_score\n",
    "import matplotlib.pyplot as plt\n",
    "\n",
    "# Load data into Pandas DataFrame\n",
    "data = pd.read_csv('Grid_price.csv')\n",
    "\n",
    "# Split the dataset into features and target variable\n",
    "X = data[['Power_Grid']]\n",
    "y = data['Cost']\n",
    "\n",
    "# Split the dataset into train and test sets\n",
    "X_train, X_test, y_train, y_test = train_test_split(X, y, test_size=0.2, random_state=42)\n",
    "\n",
    "# Create decision tree regressor model\n",
    "model = DecisionTreeRegressor(random_state=42)\n",
    "\n",
    "# Train model on training data\n",
    "model.fit(X_train, y_train)\n",
    "\n",
    "# Predict on testing data\n",
    "y_pred = model.predict(X_test)\n",
    "\n",
    "# Evaluate performance of model\n",
    "mse = mean_squared_error(y_test, y_pred)\n",
    "rmse = np.sqrt(mse)\n",
    "r2 = r2_score(y_test, y_pred)\n",
    "\n",
    "print(f\"RMSE: {rmse}\")\n",
    "print(\"R-squared score: {:.2f}\".format(r2))\n",
    "\n",
    "# plot scatter plot between temp and solar radiation\n",
    "plt.scatter(X_test['Power_Grid'], y_test, color='red')\n",
    "plt.scatter(X_test['Power_Grid'], y_pred, color='blue')\n",
    "plt.title('Cost vs Power_grid')\n",
    "plt.xlabel('Power Grid')\n",
    "plt.ylabel('Cost')\n",
    "plt.legend(['Actual', 'Predicted'])\n",
    "plt.show()\n",
    "\n",
    "# Make a prediction using the trained model\n",
    "new_X = np.array([[27908.86972]])\n",
    "prediction = model.predict(new_X)\n",
    "\n",
    "\n",
    "# Print the prediction\n",
    "print(\"Output on given input:\", prediction)"
   ]
  },
  {
   "cell_type": "markdown",
   "id": "0532700a",
   "metadata": {},
   "source": [
    "# Model 3 - Neural Network"
   ]
  },
  {
   "cell_type": "code",
   "execution_count": 3,
   "id": "5e510308",
   "metadata": {
    "scrolled": false
   },
   "outputs": [
    {
     "name": "stdout",
     "output_type": "stream",
     "text": [
      "Epoch 1/50\n",
      "64/64 [==============================] - 4s 20ms/step - loss: 147977601024.0000 - mse: 147977601024.0000 - mae: 334073.5625 - val_loss: 174485864448.0000 - val_mse: 174485864448.0000 - val_mae: 345023.3125\n",
      "Epoch 2/50\n",
      "64/64 [==============================] - 1s 9ms/step - loss: 147972833280.0000 - mse: 147972833280.0000 - mae: 334066.1562 - val_loss: 174474870784.0000 - val_mse: 174474870784.0000 - val_mae: 345009.1875\n",
      "Epoch 3/50\n",
      "64/64 [==============================] - 0s 8ms/step - loss: 147955089408.0000 - mse: 147955089408.0000 - mae: 334040.8438 - val_loss: 174440775680.0000 - val_mse: 174440775680.0000 - val_mae: 344968.2188\n",
      "Epoch 4/50\n",
      "64/64 [==============================] - 1s 9ms/step - loss: 147910950912.0000 - mse: 147910950912.0000 - mae: 333981.1250 - val_loss: 174366900224.0000 - val_mse: 174366900224.0000 - val_mae: 344883.4375\n",
      "Epoch 5/50\n",
      "64/64 [==============================] - 1s 8ms/step - loss: 147826049024.0000 - mse: 147826049024.0000 - mae: 333871.0938 - val_loss: 174235467776.0000 - val_mse: 174235467776.0000 - val_mae: 344738.5312\n",
      "Epoch 6/50\n",
      "64/64 [==============================] - 0s 7ms/step - loss: 147684179968.0000 - mse: 147684179968.0000 - mae: 333694.4062 - val_loss: 174027505664.0000 - val_mse: 174027505664.0000 - val_mae: 344517.2500\n",
      "Epoch 7/50\n",
      "64/64 [==============================] - 1s 8ms/step - loss: 147465797632.0000 - mse: 147465797632.0000 - mae: 333435.2188 - val_loss: 173715603456.0000 - val_mse: 173715603456.0000 - val_mae: 344198.1562\n",
      "Epoch 8/50\n",
      "64/64 [==============================] - 1s 8ms/step - loss: 147146817536.0000 - mse: 147146817536.0000 - mae: 333073.8438 - val_loss: 173274611712.0000 - val_mse: 173274611712.0000 - val_mae: 343758.1562\n",
      "Epoch 9/50\n",
      "64/64 [==============================] - 0s 7ms/step - loss: 146710642688.0000 - mse: 146710642688.0000 - mae: 332582.3125 - val_loss: 172702744576.0000 - val_mse: 172702744576.0000 - val_mae: 343193.2812\n",
      "Epoch 10/50\n",
      "64/64 [==============================] - 1s 8ms/step - loss: 146168135680.0000 - mse: 146168135680.0000 - mae: 331977.8750 - val_loss: 171985764352.0000 - val_mse: 171985764352.0000 - val_mae: 342494.5000\n",
      "Epoch 11/50\n",
      "64/64 [==============================] - 0s 7ms/step - loss: 145508663296.0000 - mse: 145508663296.0000 - mae: 331245.6562 - val_loss: 171117707264.0000 - val_mse: 171117707264.0000 - val_mae: 341657.7812\n",
      "Epoch 12/50\n",
      "64/64 [==============================] - 0s 8ms/step - loss: 144691773440.0000 - mse: 144691773440.0000 - mae: 330358.1250 - val_loss: 170078879744.0000 - val_mse: 170078879744.0000 - val_mae: 340664.2500\n",
      "Epoch 13/50\n",
      "64/64 [==============================] - 0s 7ms/step - loss: 143767126016.0000 - mse: 143767126016.0000 - mae: 329336.0938 - val_loss: 168868593664.0000 - val_mse: 168868593664.0000 - val_mae: 339512.1875\n",
      "Epoch 14/50\n",
      "64/64 [==============================] - 0s 8ms/step - loss: 142697005056.0000 - mse: 142697005056.0000 - mae: 328158.9062 - val_loss: 167483260928.0000 - val_mse: 167483260928.0000 - val_mae: 338195.0625\n",
      "Epoch 15/50\n",
      "64/64 [==============================] - 1s 9ms/step - loss: 141423919104.0000 - mse: 141423919104.0000 - mae: 326765.3750 - val_loss: 165915279360.0000 - val_mse: 165915279360.0000 - val_mae: 336703.9062\n",
      "Epoch 16/50\n",
      "64/64 [==============================] - 0s 8ms/step - loss: 140111118336.0000 - mse: 140111118336.0000 - mae: 325319.7812 - val_loss: 164158521344.0000 - val_mse: 164158521344.0000 - val_mae: 335032.6250\n",
      "Epoch 17/50\n",
      "64/64 [==============================] - 0s 8ms/step - loss: 138580639744.0000 - mse: 138580639744.0000 - mae: 323629.6250 - val_loss: 162236416000.0000 - val_mse: 162236416000.0000 - val_mae: 333197.9688\n",
      "Epoch 18/50\n",
      "64/64 [==============================] - 1s 8ms/step - loss: 136867389440.0000 - mse: 136867389440.0000 - mae: 321756.1250 - val_loss: 160097763328.0000 - val_mse: 160097763328.0000 - val_mae: 331153.2500\n",
      "Epoch 19/50\n",
      "64/64 [==============================] - 1s 8ms/step - loss: 135007240192.0000 - mse: 135007240192.0000 - mae: 319679.9375 - val_loss: 157780688896.0000 - val_mse: 157780688896.0000 - val_mae: 328923.4062\n",
      "Epoch 20/50\n",
      "64/64 [==============================] - 0s 7ms/step - loss: 133007917056.0000 - mse: 133007917056.0000 - mae: 317479.5312 - val_loss: 155270725632.0000 - val_mse: 155270725632.0000 - val_mae: 326498.6562\n",
      "Epoch 21/50\n",
      "64/64 [==============================] - 1s 10ms/step - loss: 130934710272.0000 - mse: 130934710272.0000 - mae: 315141.7500 - val_loss: 152579211264.0000 - val_mse: 152579211264.0000 - val_mae: 323879.9375\n",
      "Epoch 22/50\n",
      "64/64 [==============================] - 0s 7ms/step - loss: 128425893888.0000 - mse: 128425893888.0000 - mae: 312354.0625 - val_loss: 149692530688.0000 - val_mse: 149692530688.0000 - val_mae: 321051.1250\n",
      "Epoch 23/50\n",
      "64/64 [==============================] - 1s 8ms/step - loss: 126102052864.0000 - mse: 126102052864.0000 - mae: 309675.3438 - val_loss: 146627362816.0000 - val_mse: 146627362816.0000 - val_mae: 318020.0000\n",
      "Epoch 24/50\n",
      "64/64 [==============================] - 0s 7ms/step - loss: 123296276480.0000 - mse: 123296276480.0000 - mae: 306463.0938 - val_loss: 143413166080.0000 - val_mse: 143413166080.0000 - val_mae: 314807.5000\n",
      "Epoch 25/50\n",
      "64/64 [==============================] - 0s 7ms/step - loss: 120679809024.0000 - mse: 120679809024.0000 - mae: 303436.5312 - val_loss: 140030885888.0000 - val_mse: 140030885888.0000 - val_mae: 311394.8750\n",
      "Epoch 26/50\n",
      "64/64 [==============================] - 1s 10ms/step - loss: 117783306240.0000 - mse: 117783306240.0000 - mae: 300052.6875 - val_loss: 136451457024.0000 - val_mse: 136451457024.0000 - val_mae: 307742.6875\n",
      "Epoch 27/50\n",
      "64/64 [==============================] - 1s 9ms/step - loss: 114673360896.0000 - mse: 114673360896.0000 - mae: 296357.4375 - val_loss: 132767940608.0000 - val_mse: 132767940608.0000 - val_mae: 303932.9375\n",
      "Epoch 28/50\n",
      "64/64 [==============================] - 0s 7ms/step - loss: 111628935168.0000 - mse: 111628935168.0000 - mae: 292687.7188 - val_loss: 128946905088.0000 - val_mse: 128946905088.0000 - val_mae: 299927.3750\n",
      "Epoch 29/50\n",
      "64/64 [==============================] - 0s 7ms/step - loss: 108468789248.0000 - mse: 108468789248.0000 - mae: 288833.7500 - val_loss: 124980224000.0000 - val_mse: 124980224000.0000 - val_mae: 295708.6875\n",
      "Epoch 30/50\n",
      "64/64 [==============================] - 0s 7ms/step - loss: 105128894464.0000 - mse: 105128894464.0000 - mae: 284639.0938 - val_loss: 120910594048.0000 - val_mse: 120910594048.0000 - val_mae: 291306.7812\n",
      "Epoch 31/50\n",
      "64/64 [==============================] - 0s 7ms/step - loss: 101964939264.0000 - mse: 101964939264.0000 - mae: 280654.6875 - val_loss: 116759519232.0000 - val_mse: 116759519232.0000 - val_mae: 286741.4688\n",
      "Epoch 32/50\n",
      "64/64 [==============================] - 0s 7ms/step - loss: 98010996736.0000 - mse: 98010996736.0000 - mae: 275636.5938 - val_loss: 112488079360.0000 - val_mse: 112488079360.0000 - val_mae: 281953.8750\n",
      "Epoch 33/50\n",
      "64/64 [==============================] - 1s 8ms/step - loss: 94600232960.0000 - mse: 94600232960.0000 - mae: 271166.1250 - val_loss: 108101132288.0000 - val_mse: 108101132288.0000 - val_mae: 276942.5938\n",
      "Epoch 34/50\n",
      "64/64 [==============================] - 0s 7ms/step - loss: 91147919360.0000 - mse: 91147919360.0000 - mae: 266437.8125 - val_loss: 103598071808.0000 - val_mse: 103598071808.0000 - val_mae: 271695.2188\n",
      "Epoch 35/50\n",
      "64/64 [==============================] - 1s 9ms/step - loss: 86959366144.0000 - mse: 86959366144.0000 - mae: 260827.3438 - val_loss: 99093569536.0000 - val_mse: 99093569536.0000 - val_mae: 266320.3750\n",
      "Epoch 36/50\n",
      "64/64 [==============================] - 1s 9ms/step - loss: 83499958272.0000 - mse: 83499958272.0000 - mae: 255988.8125 - val_loss: 94485184512.0000 - val_mse: 94485184512.0000 - val_mae: 260695.3750\n",
      "Epoch 37/50\n",
      "64/64 [==============================] - 1s 8ms/step - loss: 79591473152.0000 - mse: 79591473152.0000 - mae: 250411.7188 - val_loss: 89911730176.0000 - val_mse: 89911730176.0000 - val_mae: 254967.5938\n",
      "Epoch 38/50\n",
      "64/64 [==============================] - 0s 7ms/step - loss: 75716648960.0000 - mse: 75716648960.0000 - mae: 244706.4219 - val_loss: 85334491136.0000 - val_mse: 85334491136.0000 - val_mae: 249077.2969\n"
     ]
    },
    {
     "name": "stdout",
     "output_type": "stream",
     "text": [
      "Epoch 39/50\n",
      "64/64 [==============================] - 0s 7ms/step - loss: 71973388288.0000 - mse: 71973388288.0000 - mae: 239144.6094 - val_loss: 80744783872.0000 - val_mse: 80744783872.0000 - val_mae: 243010.9844\n",
      "Epoch 40/50\n",
      "64/64 [==============================] - 0s 7ms/step - loss: 68716904448.0000 - mse: 68716904448.0000 - mae: 233992.8750 - val_loss: 76285714432.0000 - val_mse: 76285714432.0000 - val_mae: 236927.7188\n",
      "Epoch 41/50\n",
      "64/64 [==============================] - 0s 7ms/step - loss: 64207785984.0000 - mse: 64207785984.0000 - mae: 226899.2812 - val_loss: 71718592512.0000 - val_mse: 71718592512.0000 - val_mae: 230522.2500\n",
      "Epoch 42/50\n",
      "64/64 [==============================] - 0s 7ms/step - loss: 60588437504.0000 - mse: 60588437504.0000 - mae: 220887.0156 - val_loss: 67296456704.0000 - val_mse: 67296456704.0000 - val_mae: 224098.8594\n",
      "Epoch 43/50\n",
      "64/64 [==============================] - 0s 7ms/step - loss: 57141239808.0000 - mse: 57141239808.0000 - mae: 215017.6875 - val_loss: 62940913664.0000 - val_mse: 62940913664.0000 - val_mae: 217553.9531\n",
      "Epoch 44/50\n",
      "64/64 [==============================] - 0s 7ms/step - loss: 53675343872.0000 - mse: 53675343872.0000 - mae: 208983.7188 - val_loss: 58689085440.0000 - val_mse: 58689085440.0000 - val_mae: 210924.4531\n",
      "Epoch 45/50\n",
      "64/64 [==============================] - 0s 7ms/step - loss: 50119909376.0000 - mse: 50119909376.0000 - mae: 202374.0000 - val_loss: 54545178624.0000 - val_mse: 54545178624.0000 - val_mae: 204214.0156\n",
      "Epoch 46/50\n",
      "64/64 [==============================] - 1s 8ms/step - loss: 46549544960.0000 - mse: 46549544960.0000 - mae: 195569.5156 - val_loss: 50482413568.0000 - val_mse: 50482413568.0000 - val_mae: 197369.5000\n",
      "Epoch 47/50\n",
      "64/64 [==============================] - 0s 7ms/step - loss: 43640709120.0000 - mse: 43640709120.0000 - mae: 189803.0938 - val_loss: 46635204608.0000 - val_mse: 46635204608.0000 - val_mae: 190589.7969\n",
      "Epoch 48/50\n",
      "64/64 [==============================] - 0s 7ms/step - loss: 40051675136.0000 - mse: 40051675136.0000 - mae: 182303.7812 - val_loss: 42864222208.0000 - val_mse: 42864222208.0000 - val_mae: 183657.2812\n",
      "Epoch 49/50\n",
      "64/64 [==============================] - 0s 7ms/step - loss: 37042642944.0000 - mse: 37042642944.0000 - mae: 175852.9219 - val_loss: 39269404672.0000 - val_mse: 39269404672.0000 - val_mae: 176728.4531\n",
      "Epoch 50/50\n",
      "64/64 [==============================] - 0s 7ms/step - loss: 34572562432.0000 - mse: 34572562432.0000 - mae: 169995.1875 - val_loss: 35867074560.0000 - val_mse: 35867074560.0000 - val_mae: 169834.6250\n",
      "20/20 [==============================] - 0s 3ms/step\n",
      "20/20 [==============================] - 0s 5ms/step - loss: 30178813952.0000 - mse: 30178813952.0000 - mae: 159808.7188\n",
      "Mean Squared Error: 30178813952.00\n",
      "Mean Absolute Error: 159808.72\n"
     ]
    },
    {
     "data": {
      "image/png": "[encoded data removed]",
      "text/plain": [
       "<Figure size 432x288 with 1 Axes>"
      ]
     },
     "metadata": {
      "needs_background": "light"
     },
     "output_type": "display_data"
    },
    {
     "data": {
      "image/png": "[encoded data removed]",
      "text/plain": [
       "<Figure size 432x288 with 1 Axes>"
      ]
     },
     "metadata": {
      "needs_background": "light"
     },
     "output_type": "display_data"
    },
    {
     "name": "stdout",
     "output_type": "stream",
     "text": [
      "1/1 [==============================] - 0s 91ms/step\n",
      "Output on given input: [[3.90899e+09]]\n"
     ]
    }
   ],
   "source": [
    "# Import necessary libraries\n",
    "import pandas as pd\n",
    "import numpy as np\n",
    "import matplotlib.pyplot as plt\n",
    "from sklearn.model_selection import train_test_split\n",
    "from sklearn.preprocessing import StandardScaler\n",
    "from tensorflow.keras.models import Sequential\n",
    "from tensorflow.keras.layers import Dense, Dropout\n",
    "\n",
    "# Load the data\n",
    "data = pd.read_csv('Grid_Price.csv')\n",
    "\n",
    "# Clean the data\n",
    "data = data.dropna()\n",
    "\n",
    "# Create new features\n",
    "#data['daily_solar_irradiance'] = data['solar_radiation'] * 24\n",
    "\n",
    "# Define input and output variables\n",
    "X = data[['Power_Grid']]\n",
    "y = data['Cost']\n",
    "\n",
    "# Split the data into training and testing sets\n",
    "X_train, X_test, y_train, y_test = train_test_split(X, y, test_size=0.2, random_state=0)\n",
    "\n",
    "# Standardize the input variables\n",
    "scaler = StandardScaler()\n",
    "X_train = scaler.fit_transform(X_train)\n",
    "X_test = scaler.transform(X_test)\n",
    "\n",
    "# Define the neural network model\n",
    "model = Sequential()\n",
    "model.add(Dense(64, input_dim=X_train.shape[1], activation='relu'))\n",
    "model.add(Dropout(0.2))\n",
    "model.add(Dense(32, activation='relu'))\n",
    "model.add(Dropout(0.2))\n",
    "model.add(Dense(1, activation='linear'))\n",
    "\n",
    "# Compile the model\n",
    "model.compile(loss='mse', optimizer='adam', metrics=['mse', 'mae'])\n",
    "\n",
    "# Train the model\n",
    "history = model.fit(X_train, y_train, epochs=50, batch_size=32, validation_split=0.2)\n",
    "\n",
    "# Make predictions\n",
    "y_pred = model.predict(X_test)\n",
    "\n",
    "# Evaluate the model\n",
    "mse, _, mae = model.evaluate(X_test, y_test)\n",
    "print(f\"Mean Squared Error: {mse:.2f}\")\n",
    "print(f\"Mean Absolute Error: {mae:.2f}\")\n",
    "\n",
    "# Plot the training and validation loss over epochs\n",
    "plt.plot(history.history['loss'])\n",
    "plt.plot(history.history['val_loss'])\n",
    "plt.title('Model Loss')\n",
    "plt.ylabel('Loss')\n",
    "plt.xlabel('Epoch')\n",
    "plt.legend(['Train', 'Validation'], loc='upper right')\n",
    "plt.show()\n",
    "\n",
    "# Visualize the results\n",
    "plt.scatter(X_test[:,0], y_test, color='black', label='Actual')\n",
    "plt.scatter(X_test[:, 0], y_pred, color='red', label='Predicted')\n",
    "plt.title('Grid Power v/s price')\n",
    "plt.xlabel('Grid Power')\n",
    "plt.ylabel('Price')\n",
    "plt.legend(loc='upper left')\n",
    "plt.show()\n",
    "\n",
    "# Make a prediction using the trained model\n",
    "new_X = np.array([[27908.86972]])\n",
    "prediction = model.predict(new_X)\n",
    "\n",
    "\n",
    "# Print the prediction\n",
    "print(\"Output on given input:\", prediction)"
   ]
  },
  {
   "cell_type": "markdown",
   "id": "16331043",
   "metadata": {},
   "source": [
    "# Model 4 - SVM"
   ]
  },
  {
   "cell_type": "code",
   "execution_count": null,
   "id": "df266f06",
   "metadata": {},
   "outputs": [],
   "source": [
    "import pandas as pd\n",
    "import numpy as np\n",
    "import matplotlib.pyplot as plt\n",
    "from sklearn.model_selection import train_test_split\n",
    "from sklearn.svm import SVR\n",
    "from sklearn.metrics import mean_squared_error, r2_score\n",
    "\n",
    "# Load the dataset\n",
    "data = pd.read_csv('Grid_price.csv')\n",
    "\n",
    "# Split the dataset into features and target variable\n",
    "X = data[['Power_Grid']]\n",
    "y = data['Cost']\n",
    "\n",
    "# Split the dataset into train and test sets\n",
    "X_train, X_test, y_train, y_test = train_test_split(X, y, test_size=0.2, random_state=42)\n",
    "\n",
    "# Create the SVM model\n",
    "svm_model = SVR(kernel='linear')\n",
    "\n",
    "# Train the SVM model on the training data\n",
    "svm_model.fit(X_train, y_train)\n",
    "\n",
    "# Test the SVM model on the test data\n",
    "y_pred = svm_model.predict(X_test)\n",
    "\n",
    "# Calculate the RMSE and R-squared score\n",
    "mse = mean_squared_error(y_test, y_pred)\n",
    "rmse = np.sqrt(mse)\n",
    "r2 = r2_score(y_test, y_pred)\n",
    "\n",
    "# Output the RMSE and R-squared score\n",
    "print(\"RMSE:\", rmse)\n",
    "print(\"R-squared score:\", r2)\n",
    "\n",
    "import matplotlib.pyplot as plt\n",
    "# plot scatter plot between temp and solar radiation\n",
    "plt.scatter(X_test['Power_Grid'], y_test, color='red')\n",
    "plt.scatter(X_test['Power_Grid'], y_pred, color='blue')\n",
    "plt.title('Cost Vs Power Grid')\n",
    "plt.xlabel('Power Grid')\n",
    "plt.ylabel('Cost')\n",
    "plt.legend(['Actual', 'Predicted'])\n",
    "plt.show()\n",
    "\n",
    "# Make a prediction using the trained model\n",
    "new_X = np.array([[279.46]])\n",
    "prediction = model.predict(new_X)\n",
    "\n",
    "\n",
    "# Print the prediction\n",
    "print(\"Output on given input:\", prediction)"
   ]
  }
 ],
 "metadata": {
  "kernelspec": {
   "display_name": "Python 3",
   "language": "python",
   "name": "python3"
  },
  "language_info": {
   "codemirror_mode": {
    "name": "ipython",
    "version": 3
   },
   "file_extension": ".py",
   "mimetype": "text/x-python",
   "name": "python",
   "nbconvert_exporter": "python",
   "pygments_lexer": "ipython3",
   "version": "3.8.8"
  }
 },
 "nbformat": 4,
 "nbformat_minor": 5
}
