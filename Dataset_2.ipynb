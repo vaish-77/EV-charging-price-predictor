{
 "cells": [
  {
   "cell_type": "markdown",
   "id": "1c4be7ee",
   "metadata": {},
   "source": [
    "# Dataset - 1 (Predicting price of solar radiations based on inverse relation)"
   ]
  },
  {
   "cell_type": "markdown",
   "id": "fb6f7d2a",
   "metadata": {},
   "source": [
    "We will be using four different models to train this dataset and find the errors and graphical analysis using all four."
   ]
  },
  {
   "cell_type": "markdown",
   "id": "14b6e5e4",
   "metadata": {},
   "source": [
    "# Model 1 - Linear Regression"
   ]
  },
  {
   "cell_type": "code",
   "execution_count": 1,
   "id": "8b16a859",
   "metadata": {},
   "outputs": [
    {
     "name": "stdout",
     "output_type": "stream",
     "text": [
      "RMSE: 65.6906123732107\n",
      "Mean squared error: 4315.26\n",
      "R-squared: 0.01\n"
     ]
    },
    {
     "data": {
      "image/png": "[encoded data removed]",
      "text/plain": [
       "<Figure size 432x288 with 1 Axes>"
      ]
     },
     "metadata": {
      "needs_background": "light"
     },
     "output_type": "display_data"
    },
    {
     "name": "stdout",
     "output_type": "stream",
     "text": [
      "Output on given input: [27.40604502]\n"
     ]
    }
   ],
   "source": [
    "#PLOT2-DATASET2\n",
    "import pandas as pd\n",
    "import numpy as np\n",
    "import matplotlib.pyplot as plt\n",
    "from sklearn.linear_model import LinearRegression\n",
    "from sklearn.model_selection import train_test_split\n",
    "from sklearn.metrics import mean_squared_error, r2_score\n",
    "\n",
    "# Load the data from the CSV file\n",
    "data = pd.read_csv('Radiation_Pattern.csv')\n",
    "\n",
    "# Clean the data by removing any missing values\n",
    "data = data.dropna()\n",
    "\n",
    "# Create new features that could impact the price of an electric vehicle\n",
    "#data['daily_solar_irradiance'] = data['solar_radiation'] * 24\n",
    "\n",
    "# Split the data into training and testing sets\n",
    "X = data[['Radiation']]\n",
    "y = data['Cost']\n",
    "X_train, X_test, y_train, y_test = train_test_split(X, y, test_size=0.2, random_state=42)\n",
    "\n",
    "# Train a linear regression model on the training data\n",
    "model = LinearRegression()\n",
    "model.fit(X_train, y_train)\n",
    "\n",
    "# Make predictions on the testing data\n",
    "y_pred = model.predict(X_test)\n",
    "\n",
    "# Evaluate the model performance using mean squared error and R-squared\n",
    "mse = mean_squared_error(y_test, y_pred)\n",
    "r2 = r2_score(y_test, y_pred)\n",
    "rmse = np.sqrt(mse)\n",
    "print(f\"RMSE: {rmse}\")\n",
    "print(\"Mean squared error: %.2f\" % mse)\n",
    "print('R-squared: %.2f' % r2)\n",
    "\n",
    "# Visualize the relationship between the features and the target variable\n",
    "plt.scatter(X_test['Radiation'], y_test, color='black')\n",
    "plt.scatter(X_test['Radiation'], y_pred, color='blue')\n",
    "plt.xlabel('Radiation')\n",
    "plt.ylabel('Cost')\n",
    "plt.title('solar radiations v/s Cost')\n",
    "plt.legend(['Actual', 'Predicted'])\n",
    "plt.show()\n",
    "\n",
    "# Make a prediction using the trained model\n",
    "new_X = np.array([[0]])\n",
    "prediction = model.predict(new_X)\n",
    "\n",
    "\n",
    "# Print the prediction\n",
    "print(\"Output on given input:\", prediction)"
   ]
  },
  {
   "cell_type": "markdown",
   "id": "72a16183",
   "metadata": {},
   "source": [
    "# Model 2 -  Decision Tree"
   ]
  },
  {
   "cell_type": "code",
   "execution_count": 2,
   "id": "bd770466",
   "metadata": {},
   "outputs": [
    {
     "name": "stdout",
     "output_type": "stream",
     "text": [
      "RMSE: 0.7638829221525513\n",
      "R-squared score: 1.00\n"
     ]
    },
    {
     "data": {
      "image/png": "[encoded data removed]",
      "text/plain": [
       "<Figure size 432x288 with 1 Axes>"
      ]
     },
     "metadata": {
      "needs_background": "light"
     },
     "output_type": "display_data"
    },
    {
     "name": "stdout",
     "output_type": "stream",
     "text": [
      "Output on given input: [0.]\n"
     ]
    }
   ],
   "source": [
    "#DATASET 2 - Decision Tree\n",
    "import pandas as pd\n",
    "import numpy as np\n",
    "from sklearn.tree import DecisionTreeRegressor\n",
    "from sklearn.model_selection import train_test_split\n",
    "from sklearn.metrics import mean_squared_error, r2_score\n",
    "import matplotlib.pyplot as plt\n",
    "\n",
    "# Load data into Pandas DataFrame\n",
    "data = pd.read_csv('Radiation_pattern.csv')\n",
    "\n",
    "# Split the dataset into features and target variable\n",
    "X = data[['Radiation']]\n",
    "y = data[['Cost']]\n",
    "\n",
    "# Split the dataset into train and test sets\n",
    "X_train, X_test, y_train, y_test = train_test_split(X, y, test_size=0.2, random_state=42)\n",
    "\n",
    "# Create decision tree regressor model\n",
    "model = DecisionTreeRegressor(random_state=42)\n",
    "\n",
    "# Train model on training data\n",
    "model.fit(X_train, y_train)\n",
    "\n",
    "# Predict on testing data\n",
    "y_pred = model.predict(X_test)\n",
    "\n",
    "# Evaluate performance of model\n",
    "mse = mean_squared_error(y_test, y_pred)\n",
    "rmse = np.sqrt(mse)\n",
    "r2 = r2_score(y_test, y_pred)\n",
    "\n",
    "print(f\"RMSE: {rmse}\")\n",
    "print(\"R-squared score: {:.2f}\".format(r2))\n",
    "\n",
    "# plot scatter plot between temp and solar radiation\n",
    "plt.scatter(X_test['Radiation'], y_test, color='red')\n",
    "plt.scatter(X_test['Radiation'], y_pred, color='blue')\n",
    "plt.title('Cost vs Radiation')\n",
    "plt.xlabel('Cost')\n",
    "plt.ylabel('Radiation')\n",
    "plt.legend(['Actual', 'Predicted'])\n",
    "plt.show()\n",
    "\n",
    "# Make a prediction using the trained model\n",
    "new_X = np.array([[0]])\n",
    "prediction = model.predict(new_X)\n",
    "\n",
    "\n",
    "# Print the prediction\n",
    "print(\"Output on given input:\", prediction)"
   ]
  },
  {
   "cell_type": "markdown",
   "id": "0801b5b0",
   "metadata": {},
   "source": [
    "# Model 3 - Neural Networks "
   ]
  },
  {
   "cell_type": "code",
   "execution_count": 3,
   "id": "f868576b",
   "metadata": {},
   "outputs": [
    {
     "name": "stdout",
     "output_type": "stream",
     "text": [
      "Epoch 1/100\n",
      "745/745 [==============================] - 3s 3ms/step - loss: 39286.6367 - mse: 39286.6367 - mae: 22.1738 - val_loss: 422653.0625 - val_mse: 422653.0625 - val_mae: 36.1679\n",
      "Epoch 2/100\n",
      "745/745 [==============================] - 2s 2ms/step - loss: 39226.1641 - mse: 39226.1641 - mae: 24.0901 - val_loss: 422617.2188 - val_mse: 422617.2188 - val_mae: 36.7224\n",
      "Epoch 3/100\n",
      "745/745 [==============================] - 1s 2ms/step - loss: 39227.2812 - mse: 39227.2812 - mae: 24.3944 - val_loss: 422647.9688 - val_mse: 422647.9688 - val_mae: 36.1399\n",
      "Epoch 4/100\n",
      "745/745 [==============================] - 1s 2ms/step - loss: 39212.4102 - mse: 39212.4102 - mae: 24.3632 - val_loss: 422599.8125 - val_mse: 422599.8125 - val_mae: 36.8898\n",
      "Epoch 5/100\n",
      "745/745 [==============================] - 1s 2ms/step - loss: 39208.9219 - mse: 39208.9219 - mae: 24.2100 - val_loss: 422549.2188 - val_mse: 422549.2188 - val_mae: 37.8243\n",
      "Epoch 6/100\n",
      "745/745 [==============================] - 1s 2ms/step - loss: 39225.3281 - mse: 39225.3281 - mae: 24.7904 - val_loss: 422643.9375 - val_mse: 422643.9375 - val_mae: 36.1585\n",
      "Epoch 7/100\n",
      "745/745 [==============================] - 1s 2ms/step - loss: 39211.9766 - mse: 39211.9766 - mae: 24.3823 - val_loss: 422625.2812 - val_mse: 422625.2812 - val_mae: 36.3207\n",
      "Epoch 8/100\n",
      "745/745 [==============================] - 1s 2ms/step - loss: 39232.6836 - mse: 39232.6836 - mae: 24.4419 - val_loss: 422674.6562 - val_mse: 422674.6562 - val_mae: 35.5763\n",
      "Epoch 9/100\n",
      "745/745 [==============================] - 1s 2ms/step - loss: 39220.9492 - mse: 39220.9492 - mae: 23.8675 - val_loss: 422570.2188 - val_mse: 422570.2188 - val_mae: 37.1757\n",
      "Epoch 10/100\n",
      "745/745 [==============================] - 1s 2ms/step - loss: 39209.8125 - mse: 39209.8125 - mae: 24.8440 - val_loss: 422661.1875 - val_mse: 422661.1875 - val_mae: 35.7830\n",
      "Epoch 11/100\n",
      "745/745 [==============================] - 1s 2ms/step - loss: 39229.5352 - mse: 39229.5352 - mae: 24.2271 - val_loss: 422654.8438 - val_mse: 422654.8438 - val_mae: 35.7805\n",
      "Epoch 12/100\n",
      "745/745 [==============================] - 1s 2ms/step - loss: 39205.5039 - mse: 39205.5039 - mae: 24.3458 - val_loss: 422627.0312 - val_mse: 422627.0312 - val_mae: 36.1688\n",
      "Epoch 13/100\n",
      "745/745 [==============================] - 1s 2ms/step - loss: 39214.7109 - mse: 39214.7109 - mae: 24.4306 - val_loss: 422630.1562 - val_mse: 422630.1562 - val_mae: 36.0849\n",
      "Epoch 14/100\n",
      "745/745 [==============================] - 1s 2ms/step - loss: 39197.2109 - mse: 39197.2109 - mae: 24.6996 - val_loss: 422668.2812 - val_mse: 422668.2812 - val_mae: 35.5698\n",
      "Epoch 15/100\n",
      "745/745 [==============================] - 1s 2ms/step - loss: 39202.1914 - mse: 39202.1914 - mae: 24.1178 - val_loss: 422601.5312 - val_mse: 422601.5312 - val_mae: 36.5376\n",
      "Epoch 16/100\n",
      "745/745 [==============================] - 1s 2ms/step - loss: 39221.3203 - mse: 39221.3203 - mae: 24.5350 - val_loss: 422662.1562 - val_mse: 422662.1562 - val_mae: 35.5622\n",
      "Epoch 17/100\n",
      "745/745 [==============================] - 1s 2ms/step - loss: 39212.6367 - mse: 39212.6367 - mae: 24.2800 - val_loss: 422663.8750 - val_mse: 422663.8750 - val_mae: 35.4871\n",
      "Epoch 18/100\n",
      "745/745 [==============================] - 1s 2ms/step - loss: 39204.5703 - mse: 39204.5703 - mae: 24.3673 - val_loss: 422670.6875 - val_mse: 422670.6875 - val_mae: 35.2991\n",
      "Epoch 19/100\n",
      "745/745 [==============================] - 1s 2ms/step - loss: 39199.7148 - mse: 39199.7148 - mae: 24.2778 - val_loss: 422662.3750 - val_mse: 422662.3750 - val_mae: 35.4187\n",
      "Epoch 20/100\n",
      "745/745 [==============================] - 2s 2ms/step - loss: 39197.0586 - mse: 39197.0586 - mae: 24.2585 - val_loss: 422672.0312 - val_mse: 422672.0312 - val_mae: 35.2678\n",
      "Epoch 21/100\n",
      "745/745 [==============================] - 2s 3ms/step - loss: 39200.3711 - mse: 39200.3711 - mae: 23.9424 - val_loss: 422503.3750 - val_mse: 422503.3750 - val_mae: 37.9695\n",
      "Epoch 22/100\n",
      "745/745 [==============================] - 1s 2ms/step - loss: 39208.3555 - mse: 39208.3555 - mae: 24.8844 - val_loss: 422654.5938 - val_mse: 422654.5938 - val_mae: 35.3850\n",
      "Epoch 23/100\n",
      "745/745 [==============================] - 2s 2ms/step - loss: 39202.5625 - mse: 39202.5625 - mae: 23.5920 - val_loss: 422548.3438 - val_mse: 422548.3438 - val_mae: 37.3059\n",
      "Epoch 24/100\n",
      "745/745 [==============================] - 2s 2ms/step - loss: 39187.4570 - mse: 39187.4570 - mae: 25.1229 - val_loss: 422685.9062 - val_mse: 422685.9062 - val_mae: 34.8619\n",
      "Epoch 25/100\n",
      "745/745 [==============================] - 1s 2ms/step - loss: 39202.7383 - mse: 39202.7383 - mae: 24.0846 - val_loss: 422644.1250 - val_mse: 422644.1250 - val_mae: 35.3474\n",
      "Epoch 26/100\n",
      "745/745 [==============================] - 2s 2ms/step - loss: 39194.4062 - mse: 39194.4062 - mae: 24.3180 - val_loss: 422641.3125 - val_mse: 422641.3125 - val_mae: 35.2909\n",
      "Epoch 27/100\n",
      "745/745 [==============================] - 2s 2ms/step - loss: 39200.7070 - mse: 39200.7070 - mae: 24.1278 - val_loss: 422630.1562 - val_mse: 422630.1562 - val_mae: 35.4151\n",
      "Epoch 28/100\n",
      "745/745 [==============================] - 1s 2ms/step - loss: 39175.4297 - mse: 39175.4297 - mae: 24.2941 - val_loss: 422622.0000 - val_mse: 422622.0000 - val_mae: 35.4642\n",
      "Epoch 29/100\n",
      "745/745 [==============================] - 1s 2ms/step - loss: 39185.9258 - mse: 39185.9258 - mae: 24.2072 - val_loss: 422633.8750 - val_mse: 422633.8750 - val_mae: 35.2177\n",
      "Epoch 30/100\n",
      "745/745 [==============================] - 2s 2ms/step - loss: 39182.0352 - mse: 39182.0352 - mae: 24.0951 - val_loss: 422619.0312 - val_mse: 422619.0312 - val_mae: 35.4558\n",
      "Epoch 31/100\n",
      "745/745 [==============================] - 1s 2ms/step - loss: 39193.3750 - mse: 39193.3750 - mae: 23.7384 - val_loss: 422612.0312 - val_mse: 422612.0312 - val_mae: 35.2359\n",
      "Epoch 32/100\n",
      "745/745 [==============================] - 1s 2ms/step - loss: 39169.4766 - mse: 39169.4766 - mae: 24.1902 - val_loss: 422627.5000 - val_mse: 422627.5000 - val_mae: 34.9645\n",
      "Epoch 33/100\n",
      "745/745 [==============================] - 1s 2ms/step - loss: 39167.7539 - mse: 39167.7539 - mae: 24.0039 - val_loss: 422566.4688 - val_mse: 422566.4688 - val_mae: 35.8441\n",
      "Epoch 34/100\n",
      "745/745 [==============================] - 2s 2ms/step - loss: 39168.7266 - mse: 39168.7266 - mae: 24.2368 - val_loss: 422688.7812 - val_mse: 422688.7812 - val_mae: 33.8884\n",
      "Epoch 35/100\n",
      "745/745 [==============================] - 2s 2ms/step - loss: 39162.7383 - mse: 39162.7383 - mae: 23.4285 - val_loss: 422593.0312 - val_mse: 422593.0312 - val_mae: 35.0687\n",
      "Epoch 36/100\n",
      "745/745 [==============================] - 1s 2ms/step - loss: 39142.9844 - mse: 39142.9844 - mae: 23.7664 - val_loss: 422521.9688 - val_mse: 422521.9688 - val_mae: 36.0996\n",
      "Epoch 37/100\n",
      "745/745 [==============================] - 2s 2ms/step - loss: 39119.5117 - mse: 39119.5117 - mae: 23.4610 - val_loss: 422354.1250 - val_mse: 422354.1250 - val_mae: 39.3506\n",
      "Epoch 38/100\n",
      "745/745 [==============================] - 1s 2ms/step - loss: 39115.5938 - mse: 39115.5938 - mae: 24.2496 - val_loss: 422598.7500 - val_mse: 422598.7500 - val_mae: 34.1205\n",
      "Epoch 39/100\n",
      "745/745 [==============================] - 1s 2ms/step - loss: 39120.2812 - mse: 39120.2812 - mae: 23.3603 - val_loss: 422559.5000 - val_mse: 422559.5000 - val_mae: 34.4736\n",
      "Epoch 40/100\n",
      "745/745 [==============================] - 1s 1ms/step - loss: 39098.8125 - mse: 39098.8125 - mae: 23.3177 - val_loss: 422390.3438 - val_mse: 422390.3438 - val_mae: 37.7038\n",
      "Epoch 41/100\n",
      "745/745 [==============================] - 1s 1ms/step - loss: 39099.9453 - mse: 39099.9453 - mae: 23.6219 - val_loss: 422542.1562 - val_mse: 422542.1562 - val_mae: 34.4404\n",
      "Epoch 42/100\n",
      "745/745 [==============================] - 1s 1ms/step - loss: 39070.8477 - mse: 39070.8477 - mae: 23.6288 - val_loss: 422573.9062 - val_mse: 422573.9062 - val_mae: 33.6171\n",
      "Epoch 43/100\n",
      "745/745 [==============================] - 1s 2ms/step - loss: 39065.0312 - mse: 39065.0312 - mae: 23.0908 - val_loss: 422610.1875 - val_mse: 422610.1875 - val_mae: 32.7590\n",
      "Epoch 44/100\n",
      "745/745 [==============================] - 2s 2ms/step - loss: 39065.8164 - mse: 39065.8164 - mae: 23.2949 - val_loss: 422602.9062 - val_mse: 422602.9062 - val_mae: 32.7189\n",
      "Epoch 45/100\n"
     ]
    },
    {
     "name": "stdout",
     "output_type": "stream",
     "text": [
      "745/745 [==============================] - 1s 2ms/step - loss: 39037.6719 - mse: 39037.6719 - mae: 22.7840 - val_loss: 422512.2812 - val_mse: 422512.2812 - val_mae: 33.6322\n",
      "Epoch 46/100\n",
      "745/745 [==============================] - 1s 2ms/step - loss: 39014.8125 - mse: 39014.8125 - mae: 22.9789 - val_loss: 422448.9688 - val_mse: 422448.9688 - val_mae: 34.4897\n",
      "Epoch 47/100\n",
      "745/745 [==============================] - 1s 1ms/step - loss: 38963.9883 - mse: 38963.9883 - mae: 21.8967 - val_loss: 422235.7188 - val_mse: 422235.7188 - val_mae: 49.4031\n",
      "Epoch 48/100\n",
      "745/745 [==============================] - 1s 2ms/step - loss: 39025.4453 - mse: 39025.4453 - mae: 23.9292 - val_loss: 422511.0625 - val_mse: 422511.0625 - val_mae: 32.6852\n",
      "Epoch 49/100\n",
      "745/745 [==============================] - 1s 1ms/step - loss: 38986.7422 - mse: 38986.7422 - mae: 22.3791 - val_loss: 422410.6875 - val_mse: 422410.6875 - val_mae: 33.9013\n",
      "Epoch 50/100\n",
      "745/745 [==============================] - 1s 2ms/step - loss: 38960.8984 - mse: 38960.8984 - mae: 22.4732 - val_loss: 422440.3125 - val_mse: 422440.3125 - val_mae: 33.0777\n",
      "Epoch 51/100\n",
      "745/745 [==============================] - 1s 2ms/step - loss: 38956.5508 - mse: 38956.5508 - mae: 22.3039 - val_loss: 422537.7188 - val_mse: 422537.7188 - val_mae: 31.1497\n",
      "Epoch 52/100\n",
      "745/745 [==============================] - 1s 2ms/step - loss: 38944.1914 - mse: 38944.1914 - mae: 22.1133 - val_loss: 422374.2188 - val_mse: 422374.2188 - val_mae: 33.2527\n",
      "Epoch 53/100\n",
      "745/745 [==============================] - 1s 2ms/step - loss: 38950.9766 - mse: 38950.9766 - mae: 21.9671 - val_loss: 422368.9688 - val_mse: 422368.9688 - val_mae: 33.2570\n",
      "Epoch 54/100\n",
      "745/745 [==============================] - 2s 2ms/step - loss: 38892.4922 - mse: 38892.4922 - mae: 21.1724 - val_loss: 422078.8438 - val_mse: 422078.8438 - val_mae: 45.4515\n",
      "Epoch 55/100\n",
      "745/745 [==============================] - 1s 1ms/step - loss: 38897.3594 - mse: 38897.3594 - mae: 22.4030 - val_loss: 422342.9688 - val_mse: 422342.9688 - val_mae: 33.1128\n",
      "Epoch 56/100\n",
      "745/745 [==============================] - 1s 1ms/step - loss: 38857.5273 - mse: 38857.5273 - mae: 21.6550 - val_loss: 422266.4062 - val_mse: 422266.4062 - val_mae: 33.7149\n",
      "Epoch 57/100\n",
      "745/745 [==============================] - 1s 2ms/step - loss: 38824.8789 - mse: 38824.8789 - mae: 21.3983 - val_loss: 422322.0000 - val_mse: 422322.0000 - val_mae: 32.2817\n",
      "Epoch 58/100\n",
      "745/745 [==============================] - 1s 2ms/step - loss: 38840.8281 - mse: 38840.8281 - mae: 21.5834 - val_loss: 422417.4062 - val_mse: 422417.4062 - val_mae: 30.3075\n",
      "Epoch 59/100\n",
      "745/745 [==============================] - 1s 2ms/step - loss: 38798.4297 - mse: 38798.4297 - mae: 20.7391 - val_loss: 422224.9688 - val_mse: 422224.9688 - val_mae: 52.6229\n",
      "Epoch 60/100\n",
      "745/745 [==============================] - 1s 2ms/step - loss: 38846.6602 - mse: 38846.6602 - mae: 22.1491 - val_loss: 422306.2500 - val_mse: 422306.2500 - val_mae: 31.4481\n",
      "Epoch 61/100\n",
      "745/745 [==============================] - 1s 2ms/step - loss: 38798.7109 - mse: 38798.7109 - mae: 21.1150 - val_loss: 422228.0312 - val_mse: 422228.0312 - val_mae: 32.3578\n",
      "Epoch 62/100\n",
      "745/745 [==============================] - 1s 2ms/step - loss: 38760.1680 - mse: 38760.1680 - mae: 20.8127 - val_loss: 422372.0625 - val_mse: 422372.0625 - val_mae: 29.5598\n",
      "Epoch 63/100\n",
      "745/745 [==============================] - 1s 2ms/step - loss: 38706.2812 - mse: 38706.2812 - mae: 20.6757 - val_loss: 422284.1562 - val_mse: 422284.1562 - val_mae: 30.6821\n",
      "Epoch 64/100\n",
      "745/745 [==============================] - 1s 2ms/step - loss: 38741.0391 - mse: 38741.0391 - mae: 20.7184 - val_loss: 422242.2500 - val_mse: 422242.2500 - val_mae: 30.9133\n",
      "Epoch 65/100\n",
      "745/745 [==============================] - 1s 2ms/step - loss: 38724.5117 - mse: 38724.5117 - mae: 20.7379 - val_loss: 422117.8750 - val_mse: 422117.8750 - val_mae: 35.4591\n",
      "Epoch 66/100\n",
      "745/745 [==============================] - 1s 2ms/step - loss: 38697.4492 - mse: 38697.4492 - mae: 20.5985 - val_loss: 422119.8438 - val_mse: 422119.8438 - val_mae: 32.3434\n",
      "Epoch 67/100\n",
      "745/745 [==============================] - 1s 2ms/step - loss: 38677.9961 - mse: 38677.9961 - mae: 20.5858 - val_loss: 422203.8750 - val_mse: 422203.8750 - val_mae: 30.3791\n",
      "Epoch 68/100\n",
      "745/745 [==============================] - 1s 2ms/step - loss: 38693.8359 - mse: 38693.8359 - mae: 20.9079 - val_loss: 422133.5625 - val_mse: 422133.5625 - val_mae: 31.6007\n",
      "Epoch 69/100\n",
      "745/745 [==============================] - 1s 2ms/step - loss: 38646.2500 - mse: 38646.2500 - mae: 20.3934 - val_loss: 422127.5000 - val_mse: 422127.5000 - val_mae: 31.7081\n",
      "Epoch 70/100\n",
      "745/745 [==============================] - 1s 2ms/step - loss: 38657.5039 - mse: 38657.5039 - mae: 20.5126 - val_loss: 422349.6250 - val_mse: 422349.6250 - val_mae: 27.4119\n",
      "Epoch 71/100\n",
      "745/745 [==============================] - 1s 2ms/step - loss: 38693.6875 - mse: 38693.6875 - mae: 20.5628 - val_loss: 422371.7188 - val_mse: 422371.7188 - val_mae: 27.0910\n",
      "Epoch 72/100\n",
      "745/745 [==============================] - 1s 2ms/step - loss: 38654.9492 - mse: 38654.9492 - mae: 20.1840 - val_loss: 422132.8750 - val_mse: 422132.8750 - val_mae: 30.4247\n",
      "Epoch 73/100\n",
      "745/745 [==============================] - 1s 2ms/step - loss: 38617.1836 - mse: 38617.1836 - mae: 20.1110 - val_loss: 421951.9062 - val_mse: 421951.9062 - val_mae: 48.5868\n",
      "Epoch 74/100\n",
      "745/745 [==============================] - 1s 2ms/step - loss: 38692.6875 - mse: 38692.6875 - mae: 20.4655 - val_loss: 422220.6875 - val_mse: 422220.6875 - val_mae: 28.4127\n",
      "Epoch 75/100\n",
      "745/745 [==============================] - 1s 2ms/step - loss: 38619.5234 - mse: 38619.5234 - mae: 20.3561 - val_loss: 422166.1250 - val_mse: 422166.1250 - val_mae: 29.0829\n",
      "Epoch 76/100\n",
      "745/745 [==============================] - 1s 2ms/step - loss: 38667.3164 - mse: 38667.3164 - mae: 20.6952 - val_loss: 422180.2812 - val_mse: 422180.2812 - val_mae: 28.9669\n",
      "Epoch 77/100\n",
      "745/745 [==============================] - 1s 2ms/step - loss: 38509.0508 - mse: 38509.0508 - mae: 19.2580 - val_loss: 422217.0312 - val_mse: 422217.0312 - val_mae: 27.3300\n",
      "Epoch 78/100\n",
      "745/745 [==============================] - 1s 2ms/step - loss: 38606.4336 - mse: 38606.4336 - mae: 19.8820 - val_loss: 422048.4375 - val_mse: 422048.4375 - val_mae: 29.8803\n",
      "Epoch 79/100\n",
      "745/745 [==============================] - 1s 2ms/step - loss: 38486.9336 - mse: 38486.9336 - mae: 19.2679 - val_loss: 422695.1250 - val_mse: 422695.1250 - val_mae: 61.4383\n",
      "Epoch 80/100\n",
      "745/745 [==============================] - 1s 2ms/step - loss: 38584.8047 - mse: 38584.8047 - mae: 20.0342 - val_loss: 422005.6562 - val_mse: 422005.6562 - val_mae: 29.8915\n",
      "Epoch 81/100\n",
      "745/745 [==============================] - 1s 2ms/step - loss: 38497.2266 - mse: 38497.2266 - mae: 19.4862 - val_loss: 422057.0000 - val_mse: 422057.0000 - val_mae: 28.4371\n",
      "Epoch 82/100\n",
      "745/745 [==============================] - 1s 1ms/step - loss: 38601.4492 - mse: 38601.4492 - mae: 20.1121 - val_loss: 422039.7812 - val_mse: 422039.7812 - val_mae: 28.8034\n",
      "Epoch 83/100\n",
      "745/745 [==============================] - 1s 1ms/step - loss: 38557.2812 - mse: 38557.2812 - mae: 20.0613 - val_loss: 421997.6875 - val_mse: 421997.6875 - val_mae: 29.4004\n",
      "Epoch 84/100\n",
      "745/745 [==============================] - 1s 1ms/step - loss: 38513.7148 - mse: 38513.7148 - mae: 20.1302 - val_loss: 422144.3125 - val_mse: 422144.3125 - val_mae: 27.0924\n",
      "Epoch 85/100\n",
      "745/745 [==============================] - 1s 1ms/step - loss: 38517.8359 - mse: 38517.8359 - mae: 19.8112 - val_loss: 422035.6875 - val_mse: 422035.6875 - val_mae: 28.1888\n",
      "Epoch 86/100\n",
      "745/745 [==============================] - 1s 2ms/step - loss: 38537.7344 - mse: 38537.7344 - mae: 19.5899 - val_loss: 422123.1562 - val_mse: 422123.1562 - val_mae: 26.3675\n",
      "Epoch 87/100\n",
      "745/745 [==============================] - 1s 2ms/step - loss: 38545.5820 - mse: 38545.5820 - mae: 19.8610 - val_loss: 422181.5312 - val_mse: 422181.5312 - val_mae: 25.7638\n",
      "Epoch 88/100\n",
      "745/745 [==============================] - 1s 2ms/step - loss: 38582.9453 - mse: 38582.9453 - mae: 19.9690 - val_loss: 421992.2812 - val_mse: 421992.2812 - val_mae: 28.1829\n",
      "Epoch 89/100\n"
     ]
    },
    {
     "name": "stdout",
     "output_type": "stream",
     "text": [
      "745/745 [==============================] - 2s 2ms/step - loss: 38493.9805 - mse: 38493.9805 - mae: 19.3026 - val_loss: 422077.8125 - val_mse: 422077.8125 - val_mae: 26.5698\n",
      "Epoch 90/100\n",
      "745/745 [==============================] - 1s 2ms/step - loss: 38490.4180 - mse: 38490.4180 - mae: 19.5614 - val_loss: 422000.6875 - val_mse: 422000.6875 - val_mae: 28.0137\n",
      "Epoch 91/100\n",
      "745/745 [==============================] - 1s 2ms/step - loss: 38464.4180 - mse: 38464.4180 - mae: 19.2081 - val_loss: 421908.9688 - val_mse: 421908.9688 - val_mae: 29.0084\n",
      "Epoch 92/100\n",
      "745/745 [==============================] - 1s 2ms/step - loss: 38442.7695 - mse: 38442.7695 - mae: 19.6460 - val_loss: 422251.8438 - val_mse: 422251.8438 - val_mae: 24.9343\n",
      "Epoch 93/100\n",
      "745/745 [==============================] - 2s 2ms/step - loss: 38459.4375 - mse: 38459.4375 - mae: 19.5065 - val_loss: 421960.4688 - val_mse: 421960.4688 - val_mae: 27.9237\n",
      "Epoch 94/100\n",
      "745/745 [==============================] - 2s 3ms/step - loss: 38590.1016 - mse: 38590.1016 - mae: 20.0717 - val_loss: 421886.4375 - val_mse: 421886.4375 - val_mae: 29.0377\n",
      "Epoch 95/100\n",
      "745/745 [==============================] - 1s 1ms/step - loss: 38509.6289 - mse: 38509.6289 - mae: 19.3251 - val_loss: 421953.6250 - val_mse: 421953.6250 - val_mae: 27.9573\n",
      "Epoch 96/100\n",
      "745/745 [==============================] - 1s 2ms/step - loss: 38436.4414 - mse: 38436.4414 - mae: 19.1453 - val_loss: 421937.9062 - val_mse: 421937.9062 - val_mae: 27.3557\n",
      "Epoch 97/100\n",
      "745/745 [==============================] - 2s 2ms/step - loss: 38418.6094 - mse: 38418.6094 - mae: 18.8929 - val_loss: 421927.8125 - val_mse: 421927.8125 - val_mae: 27.1737\n",
      "Epoch 98/100\n",
      "745/745 [==============================] - 1s 1ms/step - loss: 38450.6094 - mse: 38450.6094 - mae: 19.7068 - val_loss: 422187.9688 - val_mse: 422187.9688 - val_mae: 23.5096\n",
      "Epoch 99/100\n",
      "745/745 [==============================] - 1s 2ms/step - loss: 38453.5352 - mse: 38453.5352 - mae: 19.8184 - val_loss: 421984.7812 - val_mse: 421984.7812 - val_mae: 27.9303\n",
      "Epoch 100/100\n",
      "745/745 [==============================] - 1s 1ms/step - loss: 38427.4961 - mse: 38427.4961 - mae: 18.9545 - val_loss: 421852.4062 - val_mse: 421852.4062 - val_mae: 28.0371\n",
      "233/233 [==============================] - 0s 1ms/step\n",
      "233/233 [==============================] - 0s 894us/step - loss: 2934.3162 - mse: 2934.3162 - mae: 14.2884\n",
      "Mean Squared Error: 2934.32\n",
      "Mean Absolute Error: 14.29\n"
     ]
    },
    {
     "data": {
      "image/png": "[encoded data removed]",
      "text/plain": [
       "<Figure size 432x288 with 1 Axes>"
      ]
     },
     "metadata": {
      "needs_background": "light"
     },
     "output_type": "display_data"
    },
    {
     "data": {
      "image/png": "[encoded data removed]",
      "text/plain": [
       "<Figure size 432x288 with 1 Axes>"
      ]
     },
     "metadata": {
      "needs_background": "light"
     },
     "output_type": "display_data"
    },
    {
     "name": "stdout",
     "output_type": "stream",
     "text": [
      "1/1 [==============================] - 0s 95ms/step\n",
      "Output on given input: [[5.032529]]\n"
     ]
    }
   ],
   "source": [
    "# Import necessary libraries\n",
    "import pandas as pd\n",
    "import numpy as np\n",
    "import matplotlib.pyplot as plt\n",
    "from sklearn.model_selection import train_test_split\n",
    "from sklearn.preprocessing import StandardScaler\n",
    "from tensorflow.keras.models import Sequential\n",
    "from tensorflow.keras.layers import Dense, Dropout\n",
    "\n",
    "# Load the data\n",
    "data = pd.read_csv('Radiation_pattern.csv')\n",
    "\n",
    "# Clean the data\n",
    "data = data.dropna()\n",
    "\n",
    "# Create new features\n",
    "#data['daily_solar_irradiance'] = data['solar_radiation'] * 24\n",
    "\n",
    "# Define input and output variables\n",
    "X = data[['Radiation']]\n",
    "y = data['Cost']\n",
    "\n",
    "# Split the data into training and testing sets\n",
    "X_train, X_test, y_train, y_test = train_test_split(X, y, test_size=0.2, random_state=0)\n",
    "\n",
    "# Standardize the input variables\n",
    "scaler = StandardScaler()\n",
    "X_train = scaler.fit_transform(X_train)\n",
    "X_test = scaler.transform(X_test)\n",
    "\n",
    "# Define the neural network model\n",
    "model = Sequential()\n",
    "model.add(Dense(64, input_dim=X_train.shape[1], activation='relu'))\n",
    "model.add(Dropout(0.2))\n",
    "model.add(Dense(32, activation='relu'))\n",
    "model.add(Dropout(0.2))\n",
    "model.add(Dense(1, activation='linear'))\n",
    "\n",
    "# Compile the model\n",
    "model.compile(loss='mse', optimizer='adam', metrics=['mse', 'mae'])\n",
    "\n",
    "# Train the model\n",
    "history = model.fit(X_train, y_train, epochs=100, batch_size=32, validation_split=0.2)\n",
    "\n",
    "# Make predictions\n",
    "y_pred = model.predict(X_test)\n",
    "\n",
    "# Evaluate the model\n",
    "mse, _, mae = model.evaluate(X_test, y_test)\n",
    "print(f\"Mean Squared Error: {mse:.2f}\")\n",
    "print(f\"Mean Absolute Error: {mae:.2f}\")\n",
    "\n",
    "# Plot the training and validation loss over epochs\n",
    "plt.plot(history.history['loss'])\n",
    "plt.plot(history.history['val_loss'])\n",
    "plt.title('Model Loss')\n",
    "plt.ylabel('Loss')\n",
    "plt.xlabel('Epoch')\n",
    "plt.legend(['Train', 'Validation'], loc='upper right')\n",
    "plt.show()\n",
    "\n",
    "# Visualize the results\n",
    "plt.scatter(X_test[:,0], y_test, color='black', label='Actual')\n",
    "plt.scatter(X_test[:, 0], y_pred, color='red', label='Predicted')\n",
    "plt.title('Radiations v/s price')\n",
    "plt.xlabel('radiations')\n",
    "plt.ylabel('Price')\n",
    "plt.legend(loc='upper left')\n",
    "plt.show()\n",
    "\n",
    "# Make a prediction using the trained model\n",
    "new_X = np.array([[0]])\n",
    "prediction = model.predict(new_X)\n",
    "\n",
    "\n",
    "# Print the prediction\n",
    "print(\"Output on given input:\", prediction)"
   ]
  },
  {
   "cell_type": "markdown",
   "id": "e2823ccf",
   "metadata": {},
   "source": [
    "# Model 4 - SVM "
   ]
  },
  {
   "cell_type": "markdown",
   "id": "81e1d9de",
   "metadata": {},
   "source": [
    "It takes a lot of time to run."
   ]
  },
  {
   "cell_type": "code",
   "execution_count": null,
   "id": "eb9aafae",
   "metadata": {},
   "outputs": [
    {
     "name": "stderr",
     "output_type": "stream",
     "text": [
      "C:\\ProgramData\\Anaconda3\\lib\\site-packages\\sklearn\\utils\\validation.py:63: DataConversionWarning: A column-vector y was passed when a 1d array was expected. Please change the shape of y to (n_samples, ), for example using ravel().\n",
      "  return f(*args, **kwargs)\n"
     ]
    }
   ],
   "source": [
    "#Dataset 2\n",
    "import pandas as pd\n",
    "import numpy as np\n",
    "import matplotlib.pyplot as plt\n",
    "from sklearn.model_selection import train_test_split\n",
    "from sklearn.svm import SVR\n",
    "from sklearn.metrics import mean_squared_error, r2_score\n",
    "\n",
    "# Load the dataset\n",
    "data = pd.read_csv('Radiation_pattern.csv')\n",
    "\n",
    "# Split the dataset into features and target variable\n",
    "X = data[['Radiation']]\n",
    "y = data[['Cost']]\n",
    "\n",
    "# Split the dataset into train and test sets\n",
    "X_train, X_test, y_train, y_test = train_test_split(X, y, test_size=0.2, random_state=42)\n",
    "\n",
    "# Create the SVM model\n",
    "svm_model = SVR(kernel='linear')\n",
    "\n",
    "# Train the SVM model on the training data\n",
    "svm_model.fit(X_train, y_train)\n",
    "\n",
    "# Test the SVM model on the test data\n",
    "y_pred = svm_model.predict(X_test)\n",
    "\n",
    "# Calculate the RMSE and R-squared score\n",
    "mse = mean_squared_error(y_test, y_pred)\n",
    "rmse = np.sqrt(mse)\n",
    "r2 = r2_score(y_test, y_pred)\n",
    "\n",
    "# Output the RMSE and R-squared score\n",
    "print(\"RMSE:\", rmse)\n",
    "print(\"R-squared score:\", r2)\n",
    "\n",
    "# plot scatter plot between temp and solar radiation\n",
    "plt.scatter(X_test['Radiation'], y_test, color='red')\n",
    "plt.scatter(X_test['Radiation'], y_pred, color='blue')\n",
    "plt.title('Cost vs Radiation')\n",
    "plt.xlabel('Cost')\n",
    "plt.ylabel('Radiation')\n",
    "plt.legend(['Actual', 'Predicted'])\n",
    "plt.show()\n",
    "\n",
    "# Make a prediction using the trained model\n",
    "new_X = np.array([[0]])\n",
    "prediction = model.predict(new_X)\n",
    "\n",
    "\n",
    "# Print the prediction\n",
    "print(\"Output on given input:\", prediction)"
   ]
  },
  {
   "cell_type": "code",
   "execution_count": null,
   "id": "3ea3270d",
   "metadata": {},
   "outputs": [],
   "source": []
  }
 ],
 "metadata": {
  "kernelspec": {
   "display_name": "Python 3",
   "language": "python",
   "name": "python3"
  },
  "language_info": {
   "codemirror_mode": {
    "name": "ipython",
    "version": 3
   },
   "file_extension": ".py",
   "mimetype": "text/x-python",
   "name": "python",
   "nbconvert_exporter": "python",
   "pygments_lexer": "ipython3",
   "version": "3.8.8"
  }
 },
 "nbformat": 4,
 "nbformat_minor": 5
}
